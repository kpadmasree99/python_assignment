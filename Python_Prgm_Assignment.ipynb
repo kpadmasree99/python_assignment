{
 "cells": [
  {
   "cell_type": "markdown",
   "id": "6cd0b9aa-deae-4d85-b848-5f4b82b7c294",
   "metadata": {},
   "source": [
    "  # PYTHON PROGRAMMING ASSIGNMENT"
   ]
  },
  {
   "cell_type": "markdown",
   "id": "3d2d42e4-c64c-4252-abde-3c168ad37fd9",
   "metadata": {},
   "source": [
    "   PYTHON PROGRAMMING ASSIGNMENT"
   ]
  },
  {
   "cell_type": "markdown",
   "id": "fd225d8c-c845-4a6f-b4b1-00fc8a0f6e7a",
   "metadata": {},
   "source": [
    " **Exercise 1: Prime Numbers**"
   ]
  },
  {
   "cell_type": "code",
   "execution_count": 1,
   "id": "e27739b5-0ca6-4670-80ab-370d201a4c34",
   "metadata": {},
   "outputs": [
    {
     "name": "stdout",
     "output_type": "stream",
     "text": [
      "enter number :- 8\n",
      "8  is not prime number\n"
     ]
    }
   ],
   "source": [
    "num = int(input('enter number :- ')) # taking from the user number\n",
    "if num >1:\n",
    "    \n",
    "    for i in range(2,num//2+1): # take range from 2 to off of the given number\n",
    "        if num%2==0: #  # check the number is divisible by any number or not\n",
    "            \n",
    "            print( num,\" is not prime number\")\n",
    "            break\n",
    "        else:\n",
    "            print(num, \" is prime number\")\n",
    "            break\n",
    "else:\n",
    "    \n",
    "    print(num,'is not prime number ')     #if given number is less than 1 then it will this statement\n",
    "    "
   ]
  },
  {
   "cell_type": "markdown",
   "id": "248843ef-21ba-4638-b79b-5c077bbf4016",
   "metadata": {},
   "source": [
    "# Exercise 2: Product of Random Numbers"
   ]
  },
  {
   "cell_type": "markdown",
   "id": "ee72a338-865e-4ceb-976a-25542e7247ce",
   "metadata": {},
   "source": [
    "* Develop a Python program that generates two random numbers and asks the user to enter the product of these numbers. The program should then check if the user's answer is correct and display an appropriate message. *\n"
   ]
  },
  {
   "cell_type": "code",
   "execution_count": 3,
   "id": "15aef91f-4acc-4803-a884-84604bf31926",
   "metadata": {},
   "outputs": [
    {
     "name": "stdout",
     "output_type": "stream",
     "text": [
      "What is the product of 8 and 1?\n",
      "Your answer: 8\n",
      "Correct! Well done.\n"
     ]
    }
   ],
   "source": [
    "import random\n",
    "\n",
    "num1 = random.randint(1, 10)\n",
    "num2 = random.randint(1, 10)\n",
    "\n",
    "# Ask the user for the product\n",
    "print(f\"What is the product of {num1} and {num2}?\")\n",
    "\n",
    "try:\n",
    "    user_answer = int(input(\"Your answer: \"))\n",
    "except ValueError:\n",
    "    print(\"Please enter a valid integer.\")\n",
    "else:\n",
    "    # Check if the user's answer is correct\n",
    "    correct_answer = num1 * num2\n",
    "    if user_answer == correct_answer:\n",
    "        print(\"Correct! Well done.\")\n",
    "    else:\n",
    "        print(f\"Incorrect. The correct answer is {correct_answer}.\")\n",
    "\n",
    "\n",
    "\n"
   ]
  },
  {
   "cell_type": "markdown",
   "id": "72183d57-cd18-4832-ad1a-af96df20ad1c",
   "metadata": {},
   "source": [
    "# Exercise 3: Squares of Even/Odd Numbers"
   ]
  },
  {
   "cell_type": "markdown",
   "id": "0d3f1a51-771d-433e-9532-04fdec17e5a4",
   "metadata": {},
   "source": [
    "** Create a Python script that prints the squares of all even or odd numbers within the range of 100 to 200. Choose either even or odd numbers and document your choice in the code  **"
   ]
  },
  {
   "cell_type": "code",
   "execution_count": 5,
   "id": "53b33e4d-7da0-432d-ac1b-4b75fb45178e",
   "metadata": {},
   "outputs": [
    {
     "name": "stdout",
     "output_type": "stream",
     "text": [
      "The even number is 100 and its square is 10000\n",
      "The even number is 102 and its square is 10404\n",
      "The even number is 104 and its square is 10816\n",
      "The even number is 106 and its square is 11236\n",
      "The even number is 108 and its square is 11664\n",
      "The even number is 110 and its square is 12100\n",
      "The even number is 112 and its square is 12544\n",
      "The even number is 114 and its square is 12996\n",
      "The even number is 116 and its square is 13456\n",
      "The even number is 118 and its square is 13924\n",
      "The even number is 120 and its square is 14400\n",
      "The even number is 122 and its square is 14884\n",
      "The even number is 124 and its square is 15376\n",
      "The even number is 126 and its square is 15876\n",
      "The even number is 128 and its square is 16384\n",
      "The even number is 130 and its square is 16900\n",
      "The even number is 132 and its square is 17424\n",
      "The even number is 134 and its square is 17956\n",
      "The even number is 136 and its square is 18496\n",
      "The even number is 138 and its square is 19044\n",
      "The even number is 140 and its square is 19600\n",
      "The even number is 142 and its square is 20164\n",
      "The even number is 144 and its square is 20736\n",
      "The even number is 146 and its square is 21316\n",
      "The even number is 148 and its square is 21904\n",
      "The even number is 150 and its square is 22500\n",
      "The even number is 152 and its square is 23104\n",
      "The even number is 154 and its square is 23716\n",
      "The even number is 156 and its square is 24336\n",
      "The even number is 158 and its square is 24964\n",
      "The even number is 160 and its square is 25600\n",
      "The even number is 162 and its square is 26244\n",
      "The even number is 164 and its square is 26896\n",
      "The even number is 166 and its square is 27556\n",
      "The even number is 168 and its square is 28224\n",
      "The even number is 170 and its square is 28900\n",
      "The even number is 172 and its square is 29584\n",
      "The even number is 174 and its square is 30276\n",
      "The even number is 176 and its square is 30976\n",
      "The even number is 178 and its square is 31684\n",
      "The even number is 180 and its square is 32400\n",
      "The even number is 182 and its square is 33124\n",
      "The even number is 184 and its square is 33856\n",
      "The even number is 186 and its square is 34596\n",
      "The even number is 188 and its square is 35344\n",
      "The even number is 190 and its square is 36100\n",
      "The even number is 192 and its square is 36864\n",
      "The even number is 194 and its square is 37636\n",
      "The even number is 196 and its square is 38416\n",
      "The even number is 198 and its square is 39204\n"
     ]
    }
   ],
   "source": [
    "for i in range(100, 200):  # taking number 100 to 199\n",
    "    if i % 2 == 0:  # finding even number \n",
    "        print(\"The even number is\", i, \"and its square is\", i ** 2)  # Squares the even number\n"
   ]
  },
  {
   "cell_type": "markdown",
   "id": "b44ddb1c-6804-4fdf-9922-ef068ba61588",
   "metadata": {},
   "source": [
    "# Exercise 4: Word counter"
   ]
  },
  {
   "cell_type": "markdown",
   "id": "21ad22d0-fc93-451f-a450-b494823a334b",
   "metadata": {},
   "source": [
    "**write a program to count the number of words in a given text.**"
   ]
  },
  {
   "cell_type": "code",
   "execution_count": 6,
   "id": "a030addc-25b9-436f-accb-6cc588882010",
   "metadata": {},
   "outputs": [
    {
     "name": "stdout",
     "output_type": "stream",
     "text": [
      "{'This': 2, 'is': 1, 'a': 1, 'sample': 1, 'text.': 1, 'text': 1, 'will': 1, 'be': 1, 'used': 1, 'to': 1, 'demonstrate': 1, 'the': 1, 'word': 1, 'counter.': 1}\n"
     ]
    }
   ],
   "source": [
    "input_text=\"This is a sample text. This text will be used to demonstrate the word counter.\" # user text input\n",
    "\n",
    "def count_words(input_text):\n",
    "  words=input_text.split() # split the input text into a list of words based on spaces\n",
    "  word_count={} # creating empty dictionary to store the word count\n",
    "  for i in words:\n",
    "    if i in word_count: #loop through each word in the list\n",
    "      word_count[i]+=1 # if the word is already in the dictionary, increment its count by 1\n",
    "    else: # if the word is not in the dictionary, add it with an initial count of 1\n",
    "      word_count[i]=1\n",
    "  return word_count # return the dictionary containing words and their counts\n",
    "result=count_words(input_text) # calling the function, and storing in result\n",
    "print(result)\n",
    "\n"
   ]
  },
  {
   "cell_type": "markdown",
   "id": "2b9ef2d0-8cd9-4c90-8e33-c38a0170c01d",
   "metadata": {},
   "source": [
    "# CHECK FOR PALINDRONE"
   ]
  },
  {
   "cell_type": "markdown",
   "id": "da43be1f-f5f4-47e0-af86-24ddae2a179e",
   "metadata": {},
   "source": [
    "\n",
    "**5.Write a Python function called is_palindrome that takes a string as input and returns True if the string is a palindrome, and False otherwise. A palindrome is a word, phrase, number, or other sequence of characters that reads the same forward and backward, ignoring spaces, punctuation, and capitalization.\n",
    "Example:\n",
    "Input: \"racecar\"\n",
    "Expected Output: True**"
   ]
  },
  {
   "cell_type": "code",
   "execution_count": 7,
   "id": "82e1a9ce-60f1-4cf7-921a-1f048aa0a308",
   "metadata": {},
   "outputs": [
    {
     "name": "stdout",
     "output_type": "stream",
     "text": [
      "True\n",
      "True\n"
     ]
    }
   ],
   "source": [
    "import string\n",
    "def is_palindrome(x): # check the input string is a pa;indrome\n",
    "\n",
    " New_String=''.join(char.lower() for char in x if char.isalnum()) # creating a new string that contains only alphanumeric characters in lower case\n",
    " return New_String==New_String[::-1] # check if the processed string is equal to its reverse\n",
    "\n",
    "print(is_palindrome('racecar')) # test the function with the string 'racecar',it should return true\n",
    "print(is_palindrome('1234567654321')) #test the function with the string '1234567654321',it should return true"
   ]
  },
  {
   "cell_type": "code",
   "execution_count": null,
   "id": "49e24f62-9ea2-4a06-83e8-1ca3b4f78bb6",
   "metadata": {},
   "outputs": [],
   "source": []
  }
 ],
 "metadata": {
  "kernelspec": {
   "display_name": "Python 3 (ipykernel)",
   "language": "python",
   "name": "python3"
  },
  "language_info": {
   "codemirror_mode": {
    "name": "ipython",
    "version": 3
   },
   "file_extension": ".py",
   "mimetype": "text/x-python",
   "name": "python",
   "nbconvert_exporter": "python",
   "pygments_lexer": "ipython3",
   "version": "3.11.5"
  }
 },
 "nbformat": 4,
 "nbformat_minor": 5
}
